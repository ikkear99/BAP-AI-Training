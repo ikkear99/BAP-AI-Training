{
 "metadata": {
  "language_info": {
   "codemirror_mode": {
    "name": "ipython",
    "version": 3
   },
   "file_extension": ".py",
   "mimetype": "text/x-python",
   "name": "python",
   "nbconvert_exporter": "python",
   "pygments_lexer": "ipython3",
   "version": "3.7.8"
  },
  "orig_nbformat": 4,
  "kernelspec": {
   "name": "python3",
   "display_name": "Python 3.7.8 64-bit"
  },
  "interpreter": {
   "hash": "0af457d1c4c0be5f4ee8805515926bec19c150716d26ab9b7c7feeaabb39b92c"
  }
 },
 "nbformat": 4,
 "nbformat_minor": 2,
 "cells": [
  {
   "cell_type": "code",
   "execution_count": 43,
   "metadata": {},
   "outputs": [
    {
     "output_type": "execute_result",
     "data": {
      "text/plain": [
       "   user_id  anime_id  rating\n",
       "0        1        20      -1\n",
       "1        1        24      -1\n",
       "2        1        79      -1\n",
       "3        1       226      -1\n",
       "4        1       241      -1"
      ],
      "text/html": "<div>\n<style scoped>\n    .dataframe tbody tr th:only-of-type {\n        vertical-align: middle;\n    }\n\n    .dataframe tbody tr th {\n        vertical-align: top;\n    }\n\n    .dataframe thead th {\n        text-align: right;\n    }\n</style>\n<table border=\"1\" class=\"dataframe\">\n  <thead>\n    <tr style=\"text-align: right;\">\n      <th></th>\n      <th>user_id</th>\n      <th>anime_id</th>\n      <th>rating</th>\n    </tr>\n  </thead>\n  <tbody>\n    <tr>\n      <th>0</th>\n      <td>1</td>\n      <td>20</td>\n      <td>-1</td>\n    </tr>\n    <tr>\n      <th>1</th>\n      <td>1</td>\n      <td>24</td>\n      <td>-1</td>\n    </tr>\n    <tr>\n      <th>2</th>\n      <td>1</td>\n      <td>79</td>\n      <td>-1</td>\n    </tr>\n    <tr>\n      <th>3</th>\n      <td>1</td>\n      <td>226</td>\n      <td>-1</td>\n    </tr>\n    <tr>\n      <th>4</th>\n      <td>1</td>\n      <td>241</td>\n      <td>-1</td>\n    </tr>\n  </tbody>\n</table>\n</div>"
     },
     "metadata": {},
     "execution_count": 43
    }
   ],
   "source": [
    "import numpy as np\n",
    "import pandas as pd \n",
    "\n",
    "rating = pd.read_csv('rating.csv')\n",
    "rating.head()"
   ]
  },
  {
   "cell_type": "code",
   "execution_count": 44,
   "metadata": {},
   "outputs": [
    {
     "output_type": "execute_result",
     "data": {
      "text/plain": [
       "user_id     0.0\n",
       "anime_id    0.0\n",
       "rating      0.0\n",
       "dtype: float64"
      ]
     },
     "metadata": {},
     "execution_count": 44
    }
   ],
   "source": [
    "rating.loc[rating.rating == -1, \"rating\"] = 0\n",
    "rating.isnull().mean()"
   ]
  },
  {
   "cell_type": "code",
   "execution_count": 45,
   "metadata": {},
   "outputs": [
    {
     "output_type": "execute_result",
     "data": {
      "text/plain": [
       "7813737"
      ]
     },
     "metadata": {},
     "execution_count": 45
    }
   ],
   "source": [
    "len(rating)"
   ]
  },
  {
   "cell_type": "code",
   "execution_count": 46,
   "metadata": {},
   "outputs": [
    {
     "output_type": "execute_result",
     "data": {
      "text/plain": [
       "(7813737, 3)"
      ]
     },
     "metadata": {},
     "execution_count": 46
    }
   ],
   "source": [
    "rating.shape[:]"
   ]
  },
  {
   "cell_type": "code",
   "execution_count": 47,
   "metadata": {},
   "outputs": [
    {
     "output_type": "execute_result",
     "data": {
      "text/plain": [
       "            user_id      anime_id        rating\n",
       "count  7.813737e+06  7.813737e+06  7.813737e+06\n",
       "mean   3.672796e+04  8.909072e+03  6.332991e+00\n",
       "std    2.099795e+04  8.883950e+03  3.368955e+00\n",
       "min    1.000000e+00  1.000000e+00  0.000000e+00\n",
       "25%    1.897400e+04  1.240000e+03  6.000000e+00\n",
       "50%    3.679100e+04  6.213000e+03  7.000000e+00\n",
       "75%    5.475700e+04  1.409300e+04  9.000000e+00\n",
       "max    7.351600e+04  3.451900e+04  1.000000e+01"
      ],
      "text/html": "<div>\n<style scoped>\n    .dataframe tbody tr th:only-of-type {\n        vertical-align: middle;\n    }\n\n    .dataframe tbody tr th {\n        vertical-align: top;\n    }\n\n    .dataframe thead th {\n        text-align: right;\n    }\n</style>\n<table border=\"1\" class=\"dataframe\">\n  <thead>\n    <tr style=\"text-align: right;\">\n      <th></th>\n      <th>user_id</th>\n      <th>anime_id</th>\n      <th>rating</th>\n    </tr>\n  </thead>\n  <tbody>\n    <tr>\n      <th>count</th>\n      <td>7.813737e+06</td>\n      <td>7.813737e+06</td>\n      <td>7.813737e+06</td>\n    </tr>\n    <tr>\n      <th>mean</th>\n      <td>3.672796e+04</td>\n      <td>8.909072e+03</td>\n      <td>6.332991e+00</td>\n    </tr>\n    <tr>\n      <th>std</th>\n      <td>2.099795e+04</td>\n      <td>8.883950e+03</td>\n      <td>3.368955e+00</td>\n    </tr>\n    <tr>\n      <th>min</th>\n      <td>1.000000e+00</td>\n      <td>1.000000e+00</td>\n      <td>0.000000e+00</td>\n    </tr>\n    <tr>\n      <th>25%</th>\n      <td>1.897400e+04</td>\n      <td>1.240000e+03</td>\n      <td>6.000000e+00</td>\n    </tr>\n    <tr>\n      <th>50%</th>\n      <td>3.679100e+04</td>\n      <td>6.213000e+03</td>\n      <td>7.000000e+00</td>\n    </tr>\n    <tr>\n      <th>75%</th>\n      <td>5.475700e+04</td>\n      <td>1.409300e+04</td>\n      <td>9.000000e+00</td>\n    </tr>\n    <tr>\n      <th>max</th>\n      <td>7.351600e+04</td>\n      <td>3.451900e+04</td>\n      <td>1.000000e+01</td>\n    </tr>\n  </tbody>\n</table>\n</div>"
     },
     "metadata": {},
     "execution_count": 47
    }
   ],
   "source": [
    "rating.describe()"
   ]
  },
  {
   "cell_type": "code",
   "execution_count": 51,
   "metadata": {},
   "outputs": [],
   "source": [
    "rating = rating[rating.user_id <= 1000]"
   ]
  },
  {
   "cell_type": "code",
   "execution_count": 52,
   "metadata": {},
   "outputs": [
    {
     "output_type": "execute_result",
     "data": {
      "text/plain": [
       "       user_id  anime_id  rating\n",
       "13245      166     30544       8\n",
       "41177      446      1003       8\n",
       "35762      392     28677       7\n",
       "23197      274     14719       0\n",
       "42438      455       982       4"
      ],
      "text/html": "<div>\n<style scoped>\n    .dataframe tbody tr th:only-of-type {\n        vertical-align: middle;\n    }\n\n    .dataframe tbody tr th {\n        vertical-align: top;\n    }\n\n    .dataframe thead th {\n        text-align: right;\n    }\n</style>\n<table border=\"1\" class=\"dataframe\">\n  <thead>\n    <tr style=\"text-align: right;\">\n      <th></th>\n      <th>user_id</th>\n      <th>anime_id</th>\n      <th>rating</th>\n    </tr>\n  </thead>\n  <tbody>\n    <tr>\n      <th>13245</th>\n      <td>166</td>\n      <td>30544</td>\n      <td>8</td>\n    </tr>\n    <tr>\n      <th>41177</th>\n      <td>446</td>\n      <td>1003</td>\n      <td>8</td>\n    </tr>\n    <tr>\n      <th>35762</th>\n      <td>392</td>\n      <td>28677</td>\n      <td>7</td>\n    </tr>\n    <tr>\n      <th>23197</th>\n      <td>274</td>\n      <td>14719</td>\n      <td>0</td>\n    </tr>\n    <tr>\n      <th>42438</th>\n      <td>455</td>\n      <td>982</td>\n      <td>4</td>\n    </tr>\n  </tbody>\n</table>\n</div>"
     },
     "metadata": {},
     "execution_count": 52
    }
   ],
   "source": [
    "from sklearn.model_selection import train_test_split\n",
    "df_train, df_valid = train_test_split(rating, test_size=0.3)\n",
    "\n",
    "df_train.head()"
   ]
  },
  {
   "cell_type": "code",
   "execution_count": 53,
   "metadata": {},
   "outputs": [],
   "source": [
    "rating.fillna(0, inplace = True)"
   ]
  },
  {
   "cell_type": "code",
   "execution_count": 55,
   "metadata": {},
   "outputs": [
    {
     "output_type": "execute_result",
     "data": {
      "text/plain": [
       "(33166, 14215)"
      ]
     },
     "metadata": {},
     "execution_count": 55
    }
   ],
   "source": [
    "len(df_train), len(df_valid)"
   ]
  },
  {
   "cell_type": "code",
   "execution_count": 56,
   "metadata": {},
   "outputs": [
    {
     "output_type": "execute_result",
     "data": {
      "text/plain": [
       "33166"
      ]
     },
     "metadata": {},
     "execution_count": 56
    }
   ],
   "source": [
    "len(df_train)"
   ]
  },
  {
   "cell_type": "code",
   "execution_count": 57,
   "metadata": {},
   "outputs": [
    {
     "output_type": "execute_result",
     "data": {
      "text/plain": [
       "   user_id  anime_id  rating\n",
       "0        1        20       0\n",
       "2        1        79       0\n",
       "3        1       226       0\n",
       "4        1       241       0\n",
       "5        1       355       0"
      ],
      "text/html": "<div>\n<style scoped>\n    .dataframe tbody tr th:only-of-type {\n        vertical-align: middle;\n    }\n\n    .dataframe tbody tr th {\n        vertical-align: top;\n    }\n\n    .dataframe thead th {\n        text-align: right;\n    }\n</style>\n<table border=\"1\" class=\"dataframe\">\n  <thead>\n    <tr style=\"text-align: right;\">\n      <th></th>\n      <th>user_id</th>\n      <th>anime_id</th>\n      <th>rating</th>\n    </tr>\n  </thead>\n  <tbody>\n    <tr>\n      <th>0</th>\n      <td>1</td>\n      <td>20</td>\n      <td>0</td>\n    </tr>\n    <tr>\n      <th>2</th>\n      <td>1</td>\n      <td>79</td>\n      <td>0</td>\n    </tr>\n    <tr>\n      <th>3</th>\n      <td>1</td>\n      <td>226</td>\n      <td>0</td>\n    </tr>\n    <tr>\n      <th>4</th>\n      <td>1</td>\n      <td>241</td>\n      <td>0</td>\n    </tr>\n    <tr>\n      <th>5</th>\n      <td>1</td>\n      <td>355</td>\n      <td>0</td>\n    </tr>\n  </tbody>\n</table>\n</div>"
     },
     "metadata": {},
     "execution_count": 57
    }
   ],
   "source": [
    "df_train = df_train.sort_values(by=['user_id', 'anime_id'])\n",
    "df_train.head()"
   ]
  },
  {
   "cell_type": "code",
   "execution_count": 58,
   "metadata": {},
   "outputs": [
    {
     "output_type": "stream",
     "name": "stderr",
     "text": [
      "C:\\Users\\ADMIN\\AppData\\Local\\Programs\\Python\\Python37\\lib\\site-packages\\pandas\\core\\indexing.py:1637: SettingWithCopyWarning: \nA value is trying to be set on a copy of a slice from a DataFrame\n\nSee the caveats in the documentation: https://pandas.pydata.org/pandas-docs/stable/user_guide/indexing.html#returning-a-view-versus-a-copy\n  self._setitem_single_block(indexer, value, name)\nC:\\Users\\ADMIN\\AppData\\Local\\Programs\\Python\\Python37\\lib\\site-packages\\pandas\\core\\indexing.py:692: SettingWithCopyWarning: \nA value is trying to be set on a copy of a slice from a DataFrame\n\nSee the caveats in the documentation: https://pandas.pydata.org/pandas-docs/stable/user_guide/indexing.html#returning-a-view-versus-a-copy\n  iloc._setitem_with_indexer(indexer, value, self.name)\n"
     ]
    },
    {
     "output_type": "execute_result",
     "data": {
      "text/plain": [
       "   user_id  anime_id  rating\n",
       "0        0        19       0\n",
       "2        0        78       0\n",
       "3        0       225       0\n",
       "4        0       240       0\n",
       "5        0       354       0"
      ],
      "text/html": "<div>\n<style scoped>\n    .dataframe tbody tr th:only-of-type {\n        vertical-align: middle;\n    }\n\n    .dataframe tbody tr th {\n        vertical-align: top;\n    }\n\n    .dataframe thead th {\n        text-align: right;\n    }\n</style>\n<table border=\"1\" class=\"dataframe\">\n  <thead>\n    <tr style=\"text-align: right;\">\n      <th></th>\n      <th>user_id</th>\n      <th>anime_id</th>\n      <th>rating</th>\n    </tr>\n  </thead>\n  <tbody>\n    <tr>\n      <th>0</th>\n      <td>0</td>\n      <td>19</td>\n      <td>0</td>\n    </tr>\n    <tr>\n      <th>2</th>\n      <td>0</td>\n      <td>78</td>\n      <td>0</td>\n    </tr>\n    <tr>\n      <th>3</th>\n      <td>0</td>\n      <td>225</td>\n      <td>0</td>\n    </tr>\n    <tr>\n      <th>4</th>\n      <td>0</td>\n      <td>240</td>\n      <td>0</td>\n    </tr>\n    <tr>\n      <th>5</th>\n      <td>0</td>\n      <td>354</td>\n      <td>0</td>\n    </tr>\n  </tbody>\n</table>\n</div>"
     },
     "metadata": {},
     "execution_count": 58
    }
   ],
   "source": [
    "df_train.iloc[:, :2] -= 1\n",
    "df_valid.iloc[:, :2] -= 1"
   ]
  },
  {
   "cell_type": "code",
   "execution_count": 59,
   "metadata": {},
   "outputs": [
    {
     "output_type": "execute_result",
     "data": {
      "text/plain": [
       "            user_id      anime_id       rating\n",
       "count  33166.000000  33166.000000  33166.00000\n",
       "mean     267.001568  10906.374359      6.10354\n",
       "std      144.611242   9104.869840      3.54651\n",
       "min        0.000000      0.000000      0.00000\n",
       "25%      151.000000   2592.000000      5.00000\n",
       "50%      280.000000   9723.000000      7.00000\n",
       "75%      391.000000  16781.000000      9.00000\n",
       "max      499.000000  34239.000000     10.00000"
      ],
      "text/html": "<div>\n<style scoped>\n    .dataframe tbody tr th:only-of-type {\n        vertical-align: middle;\n    }\n\n    .dataframe tbody tr th {\n        vertical-align: top;\n    }\n\n    .dataframe thead th {\n        text-align: right;\n    }\n</style>\n<table border=\"1\" class=\"dataframe\">\n  <thead>\n    <tr style=\"text-align: right;\">\n      <th></th>\n      <th>user_id</th>\n      <th>anime_id</th>\n      <th>rating</th>\n    </tr>\n  </thead>\n  <tbody>\n    <tr>\n      <th>count</th>\n      <td>33166.000000</td>\n      <td>33166.000000</td>\n      <td>33166.00000</td>\n    </tr>\n    <tr>\n      <th>mean</th>\n      <td>267.001568</td>\n      <td>10906.374359</td>\n      <td>6.10354</td>\n    </tr>\n    <tr>\n      <th>std</th>\n      <td>144.611242</td>\n      <td>9104.869840</td>\n      <td>3.54651</td>\n    </tr>\n    <tr>\n      <th>min</th>\n      <td>0.000000</td>\n      <td>0.000000</td>\n      <td>0.00000</td>\n    </tr>\n    <tr>\n      <th>25%</th>\n      <td>151.000000</td>\n      <td>2592.000000</td>\n      <td>5.00000</td>\n    </tr>\n    <tr>\n      <th>50%</th>\n      <td>280.000000</td>\n      <td>9723.000000</td>\n      <td>7.00000</td>\n    </tr>\n    <tr>\n      <th>75%</th>\n      <td>391.000000</td>\n      <td>16781.000000</td>\n      <td>9.00000</td>\n    </tr>\n    <tr>\n      <th>max</th>\n      <td>499.000000</td>\n      <td>34239.000000</td>\n      <td>10.00000</td>\n    </tr>\n  </tbody>\n</table>\n</div>"
     },
     "metadata": {},
     "execution_count": 59
    }
   ],
   "source": [
    "df_train.describe()"
   ]
  },
  {
   "cell_type": "code",
   "execution_count": 60,
   "metadata": {},
   "outputs": [
    {
     "output_type": "execute_result",
     "data": {
      "text/plain": [
       "array([[    0,    19,     0],\n",
       "       [    0,    78,     0],\n",
       "       [    0,   225,     0],\n",
       "       ...,\n",
       "       [  499, 20506,     9],\n",
       "       [  499, 20846,     9],\n",
       "       [  499, 21602,     9]], dtype=int64)"
      ]
     },
     "metadata": {},
     "execution_count": 60
    }
   ],
   "source": [
    "df_train = df_train.to_numpy()\n",
    "df_valid = df_valid.to_numpy()\n",
    "df_train\n"
   ]
  },
  {
   "cell_type": "code",
   "execution_count": null,
   "metadata": {},
   "outputs": [],
   "source": []
  },
  {
   "cell_type": "code",
   "execution_count": 88,
   "metadata": {},
   "outputs": [],
   "source": [
    "class MF(object):\n",
    "    def __init__(self, Y, K, X=None, W=None, lambda_=0.1, alpha=0.2, epochs=100):\n",
    "        \"\"\"\n",
    "    \n",
    "        :param Y: utility matrix\n",
    "        :param K: X columns latent feature and W rows\n",
    "        :param X: the latent feature (iterm) matrix\n",
    "        :param W: the users matrix\n",
    "        :param lambda_: regularization param avoid situation overfit (default 0.1)\n",
    "        :param alpha: learning rate\n",
    "        :param epochs: number of training loop (default 100)\n",
    "        \"\"\"\n",
    "        self.__Y = Y\n",
    "        # normalized data, update later in normalized_Y function\n",
    "        self.__Y = self.__Y.copy()\n",
    "        self.__K = K\n",
    "\n",
    "        self.__lambda_ = lambda_\n",
    "        self.__alpha = alpha\n",
    "        self.__epochs = epochs\n",
    "\n",
    "        # number of users, items, and ratings\n",
    "        self.__users_count = int(np.max(Y[:, 0])) + 1\n",
    "        self.__items_count = int(np.max(Y[:, 1])) + 1\n",
    "        self.__ratings_count = Y.shape[0]\n",
    "        self.__mu = np.zeros(self.__users_count)\n",
    "\n",
    "        # random value iterm feature and weight matrix\n",
    "        self.__X = np.random.randn(self.__items_count, K)\n",
    "        self.__W = np.random.randn(K, self.__users_count)\n",
    "\n",
    "\n",
    "    def normalized(self):\n",
    "        \"\"\"\n",
    "        this method is used to normalized ratings\n",
    "        :return:\n",
    "        \"\"\"\n",
    "        mu = np.zeros(self.__users_count)\n",
    "\n",
    "        for i in range(self.__users_count):\n",
    "            indices_user_i = np.where(self.__Y[:, 0] == i)[0].astype(np.int32)\n",
    "            ratings = []\n",
    "            for j in indices_user_i:\n",
    "                if float(self.__Y[j, 2]) != float(0):\n",
    "                    ratings.append(self.__Y[j, 2])\n",
    "            if len(ratings):\n",
    "                _mean = np.mean(ratings)\n",
    "            else:\n",
    "                _mean = 0\n",
    "            mu[i] = _mean\n",
    "            # normalized\n",
    "            if _mean != 0:\n",
    "                for j in indices_user_i:\n",
    "                    if float(self.__Y[j, 2]) != float(0):\n",
    "                        self.__Y[j, 2] -= mu[i]\n",
    "        self.__mu = mu\n",
    "\n",
    "    def cost_function(self):\n",
    "        \"\"\"\n",
    "        this method is used to calculate the cost function\n",
    "        :return: cost function J\n",
    "        \"\"\"\n",
    "        J = 0\n",
    "        for i in range(self.__ratings_count):\n",
    "            user = int(self.__Y[i, 0])\n",
    "            item = int(self.__Y[i, 1])\n",
    "            rate = self.__Y[i, 2]\n",
    "            J += (1 / (2 * self.__ratings_count)) * np.square(rate - self.__X[item, :].dot(self.__W[:, user]))\n",
    "        # regularized\n",
    "        J += (self.__lambda_ / 2) * (\n",
    "                np.linalg.norm(self.__X, ord=\"fro\") + np.linalg.norm(self.__W, ord=\"fro\"))  # Frobenius Norm\n",
    "        return J\n",
    "\n",
    "    def get_items_rated_by_user(self, user_id):\n",
    "        \"\"\"\n",
    "        get all items which are rated by user user_id and get the corresponding rates\n",
    "        :param user_id: id of target user\n",
    "        :return: array of item ids and ratings\n",
    "        \"\"\"\n",
    "        indices_user = np.where(self.__Y[:, 0] == user_id)[0].astype(np.int32)\n",
    "        item_ids = self.__Y[indices_user, 1].astype(np.int32)\n",
    "        ratings = self.__Y[indices_user, 2].astype(np.float32)\n",
    "        return item_ids, ratings\n",
    "\n",
    "    def get_users_rating_item(self, item_id):\n",
    "        \"\"\"\n",
    "        get all users who rated item item_id and get the corresponding rates\n",
    "        :param item_id: id of item that need to find users who rated it\n",
    "        :return: array of user ids and ratings\n",
    "        \"\"\"\n",
    "        indices_item = np.where(self.__Y[:, 1] == item_id)[0].astype(np.int32)\n",
    "        user_ids = self.__Y[indices_item, 0].astype(np.int32)\n",
    "        ratings = self.__Y[indices_item, 2].astype(np.float32)\n",
    "        return user_ids, ratings\n",
    "\n",
    "    def update_x(self):\n",
    "        \"\"\"\n",
    "        update rows of X matrix\n",
    "        :return:\n",
    "        \"\"\"\n",
    "        for i in range(self.__items_count):\n",
    "            user_ids, ratings = self.get_users_rating_item(i)\n",
    "            Wi = self.__W[:, user_ids]\n",
    "            self.__X[i, :] = self.__X[i, :] - self.__alpha * (\n",
    "                        -(1 / self.__ratings_count) * ((ratings - np.dot(self.__X[i, :], Wi)).dot(Wi.T))\n",
    "                        + (self.__lambda_ * self.__X[i, :])).reshape((-1, self.__K))\n",
    "\n",
    "    def update_w(self):\n",
    "        \"\"\"\n",
    "        update columns of W matrix\n",
    "        :return:\n",
    "        \"\"\"\n",
    "        for i in range(self.__users_count):\n",
    "            item_ids, ratings = self.get_items_rated_by_user(i)\n",
    "            Xi = self.__X[item_ids, :]\n",
    "            self.__W[:, i] = self.__W[:, i] - self.__alpha * (\n",
    "                        -(1 / self.__ratings_count) * Xi.T.dot(ratings - Xi.dot(self.__W[:, i]))\n",
    "                        + self.__lambda_ * self.__W[:, i]).reshape((self.__K, ))\n",
    "\n",
    "    def matrix_factorization(self):\n",
    "        \"\"\"\n",
    "        implementation of matrix factorization algo\n",
    "        :return:\n",
    "        \"\"\"\n",
    "        self.normalized()\n",
    "        for i in range(self.__epochs):\n",
    "            self.update_x()\n",
    "            self.update_w()\n",
    "            mse_train = self.mse_evaluate(self.__Y)\n",
    "            print(\"epoch:\", i + 1, \"cost:\", self.cost_function(), \"mse:\", mse_train)\n",
    "\n",
    "    def predict(self, user_id, item_id):\n",
    "        \"\"\"\n",
    "        this method is used to make prediction about rating for item item_id of user user_id\n",
    "        :param user_id: id of user target\n",
    "        :param item_id: id of item target\n",
    "        :return: prediction\n",
    "        \"\"\"\n",
    "        pred_result = self.__X[item_id, :].dot(self.__W[:, user_id]) + self.__mu[user_id]\n",
    "        # truncate if results are out of range [0, 10]\n",
    "        if pred_result < 0:\n",
    "            return 0\n",
    "        elif pred_result > 10:\n",
    "            return 10\n",
    "        return pred_result\n",
    "\n",
    "    def mse_evaluate(self, testing_set):\n",
    "        \"\"\"\n",
    "        this method is used to evaluate the accuracy of our model using MSE\n",
    "        :param testing_set: our dataset for testing\n",
    "        :return: MSE\n",
    "        \"\"\"\n",
    "        number_of_test = testing_set.shape[0]\n",
    "        square_error = 0\n",
    "        for i in range(number_of_test):\n",
    "            prediction = self.predict(testing_set[i, 0], testing_set[i, 1])\n",
    "            square_error += np.square(prediction - testing_set[i, 2])\n",
    "        mean_square_error = square_error / number_of_test\n",
    "        return mean_square_error\n",
    "\n",
    "    def recommend(self, user_id):\n",
    "        \"\"\"\n",
    "        Determine all items should be recommended for user u\n",
    "        The decision is made based on all i such that:\n",
    "        self.pred(u, i) > 0. Suppose we are considering items which\n",
    "        have not been rated by u yet.\n",
    "        \"\"\"\n",
    "        indices_of_user = np.where(self.__Y[:, 0] == user_id)[0]\n",
    "        items_rated_by_user = self.__Y[indices_of_user, 1].tolist()\n",
    "        recommended_items = []\n",
    "        for i in range(self.__items_count):\n",
    "            if i not in items_rated_by_user:\n",
    "                rating = self.predict(user_id, i)\n",
    "                if rating > 9:\n",
    "                    recommended_items.append(i)\n",
    "        return recommended_items\n",
    "\n",
    "    def print_recommendation(self, user_id):\n",
    "        \"\"\"\n",
    "        print all items which should be recommended for each user\n",
    "        \"\"\"\n",
    "        print('Recommendation: ')\n",
    "        recommended_items = self.recommend(user_id)\n",
    "        print('Recommend item(s):', recommended_items, 'to user', user_id)"
   ]
  },
  {
   "cell_type": "code",
   "execution_count": 77,
   "metadata": {},
   "outputs": [
    {
     "output_type": "stream",
     "name": "stdout",
     "text": [
      "epoch: 1 cost: 36.948600805895616 mse: 58.20612169258698\n",
      "epoch: 2 cost: 35.946908804537394 mse: 58.358908673272865\n",
      "epoch: 3 cost: 34.98741596295601 mse: 58.50708657870324\n",
      "epoch: 4 cost: 34.0674186800968 mse: 58.64973408289202\n",
      "epoch: 5 cost: 33.18442890311204 mse: 58.78645080755899\n",
      "epoch: 6 cost: 32.33615514120839 mse: 58.91766639033367\n",
      "epoch: 7 cost: 31.520485271955668 mse: 59.04161086841274\n",
      "epoch: 8 cost: 30.735470958579473 mse: 59.15873583909506\n",
      "epoch: 9 cost: 29.979313516585215 mse: 59.2685423937862\n",
      "epoch: 10 cost: 29.250351085538767 mse: 59.36963305240378\n",
      "epoch: 11 cost: 28.54704697726602 mse: 59.460949443905314\n",
      "epoch: 12 cost: 27.86797908537954 mse: 59.54269906340671\n",
      "epoch: 13 cost: 27.211830253129097 mse: 59.61538244565062\n",
      "epoch: 14 cost: 26.577379507287727 mse: 59.68079029870133\n",
      "epoch: 15 cost: 25.96349407530134 mse: 59.73854018686919\n",
      "epoch: 16 cost: 25.369122111388002 mse: 59.7894623052833\n",
      "epoch: 17 cost: 24.79328606480236 mse: 59.832757561894354\n",
      "epoch: 18 cost: 24.235076630190147 mse: 59.869866389411186\n",
      "epoch: 19 cost: 23.693647225943288 mse: 59.90175712261041\n",
      "epoch: 20 cost: 23.168208951813316 mse: 59.928204173087906\n",
      "Test MSE: 12.945038873284396\n"
     ]
    }
   ],
   "source": [
    "result_train = MF(df_train, K = 10, epochs=20)\n",
    "result_train.matrix_factorization()\n",
    "\n",
    "test_evaluate = result_train.mse_evaluate(df_valid)\n",
    "print(\"Test MSE:\", test_evaluate)"
   ]
  },
  {
   "cell_type": "code",
   "execution_count": 92,
   "metadata": {},
   "outputs": [
    {
     "output_type": "stream",
     "name": "stdout",
     "text": [
      "12.945038873284396\n"
     ]
    }
   ],
   "source": [
    "RMSE = result_train.mse_evaluate(df_valid)\n",
    "print(RMSE)"
   ]
  },
  {
   "cell_type": "code",
   "execution_count": 90,
   "metadata": {},
   "outputs": [
    {
     "output_type": "execute_result",
     "data": {
      "text/plain": [
       "33302"
      ]
     },
     "metadata": {},
     "execution_count": 90
    }
   ],
   "source": [
    "test_user = result_train.recommend(232)\n",
    "len(test_user)"
   ]
  },
  {
   "cell_type": "code",
   "execution_count": null,
   "metadata": {},
   "outputs": [],
   "source": []
  }
 ]
}