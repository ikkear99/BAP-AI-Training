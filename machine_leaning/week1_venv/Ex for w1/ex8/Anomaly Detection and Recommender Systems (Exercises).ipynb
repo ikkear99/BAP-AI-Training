{
 "cells": [
  {
   "cell_type": "markdown",
   "metadata": {},
   "source": [
    "# Anomaly Detection and Recommender Systems\n",
    "\n",
    "Stanford CS229 - Machine Learning by Andrew Ng. Programming exercise 8.\n",
    "\n",
    "Please check out [the repository on GitHub](https://github.com/rickwierenga/CS229-Python/). If you spot any mistakes or inconcistencies, please create an issue. For questions you can find me on Twitter: [@rickwierenga](https://twitter.com/rickwierenga). Starring the project on GitHub means a ton to me!"
   ]
  },
  {
   "cell_type": "code",
   "execution_count": 1,
   "metadata": {},
   "outputs": [],
   "source": [
    "import numpy as np\n",
    "import matplotlib.pylab as plt\n",
    "import scipy.io as sio\n",
    "from scipy.optimize import minimize\n",
    "%matplotlib inline"
   ]
  },
  {
   "cell_type": "markdown",
   "metadata": {},
   "source": [
    "## Anomaly detection\n",
    "\n",
    "$x \\in \\mathbb(R)$ is a distributed Gaussian with mean $\\mu$ and variance $\\sigma$.\n",
    "\n",
    "$x \\sim \\mathcal{N}(\\mu, \\sigma^2)$ ($\\sim$: distributed as)\n",
    "\n",
    "We fit the parameters\n",
    "\n",
    "$\\mu = \\frac{1}{m}\\displaystyle\\sum_{i = 1}^{m}x^{(i)}$, $\\sigma = \\frac{1}{m}\\displaystyle\\sum_{i = 1}^m(x^{(i)} - \\mu)$.\n",
    "\n",
    "Then we use the following function:\n",
    "\n",
    "$$p(x;\\mu, \\sigma^2) = \\displaystyle\\prod_{j = 1}^{n}p(x_j; \\mu_j, \\sigma^2)$$\n",
    "\n",
    "Anomaly if $p(x) < \\epsilon$.\n",
    "\n",
    "### Algorithm\n",
    "1. Choose features $x_j$.\n",
    "2. Fit parameters $\\mu_1, ..., \\sigma_n$, $\\mu_1, ..., \\sigma_n$.\n",
    "3. Given new example $x$, compute $p(x)$.\n",
    "\n",
    "### Anomaly Detection vs Supervised Learning\n",
    "Use *anomaly detection*:\n",
    "* Very small number of positive examples ($y = 1$).\n",
    "* Many different \"types\" of anomaly.\n",
    "* Future anomalies may look nothing like any of the anomalous examples we've seen so far.\n",
    "\n",
    "Use *supervised learning*:\n",
    "* Large number of positive and negative examples.\n",
    "* Enough positive examples for the algorithm to get a sense of what positive examples look like.\n",
    "* Future examples look like examples from the dataset.\n",
    "\n",
    "### Tips\n",
    "* Examine the examples the model got wrong by hand and try to come up with new features. \n",
    "* Have a look at the distribution. If it doesn't look like a bell curve, apply log or square root function to each traning example.\n",
    "\n",
    "### Multivariate Gaussian Distribution\n",
    "![mgd](images/mgd.png)\n",
    "\n",
    "Instead of modelling $p(x_1), p(x_2), ...$ seperately, we model $p(x)$ in one go. Parameters $\\mu \\in \\mathbb{R}^n$, $\\Sigma \\in \\mathbb{R}^{n \\times n}.$\n",
    "\n",
    "#### Original vs Multivariate\n",
    "With the original model you have to manually create featuers to capture anomalies where $x_1$, $x_2$ take unusual combinations of values where the multivariate model automatically captures the correlations. The original model is computationaly cheaper and works OK when $m$ is small (the multivariate model must have $m > n$."
   ]
  },
  {
   "cell_type": "code",
   "execution_count": 2,
   "metadata": {},
   "outputs": [
    {
     "data": {
      "image/png": "[encoded data removed]",
      "text/plain": [
       "<Figure size 432x288 with 1 Axes>"
      ]
     },
     "metadata": {
      "needs_background": "light"
     },
     "output_type": "display_data"
    }
   ],
   "source": [
    "data = sio.loadmat('ex8data1.mat')\n",
    "X = data[\"X\"]\n",
    "plt.plot(X[:, 0], X[:, 1], 'bx')\n",
    "plt.xlabel('Latency (ms)')\n",
    "plt.ylabel('Throughput (mb/s)')\n",
    "plt.show()"
   ]
  },
  {
   "cell_type": "markdown",
   "metadata": {},
   "source": [
    "**Exercise**: Complete the `estimate_gaussian` function to return an n-dimensional vector $\\mu$ that holds the mean for every feature and a vector $\\sigma^2$ that holds the variance."
   ]
  },
  {
   "cell_type": "code",
   "execution_count": 1,
   "metadata": {},
   "outputs": [],
   "source": [
    "def estimate_gaussian(X):\n",
    "    return 0, 0"
   ]
  },
  {
   "cell_type": "code",
   "execution_count": 2,
   "metadata": {},
   "outputs": [
    {
     "ename": "NameError",
     "evalue": "name 'X' is not defined",
     "output_type": "error",
     "traceback": [
      "\u001b[0;31m---------------------------------------------------------------------------\u001b[0m",
      "\u001b[0;31mNameError\u001b[0m                                 Traceback (most recent call last)",
      "\u001b[0;32m<ipython-input-2-1f80e79b7643>\u001b[0m in \u001b[0;36m<module>\u001b[0;34m\u001b[0m\n\u001b[1;32m      1\u001b[0m \u001b[0;32mfrom\u001b[0m \u001b[0mscipy\u001b[0m\u001b[0;34m.\u001b[0m\u001b[0mstats\u001b[0m \u001b[0;32mimport\u001b[0m \u001b[0mmultivariate_normal\u001b[0m\u001b[0;34m\u001b[0m\u001b[0;34m\u001b[0m\u001b[0m\n\u001b[0;32m----> 2\u001b[0;31m \u001b[0mmu\u001b[0m\u001b[0;34m,\u001b[0m \u001b[0msigma2\u001b[0m \u001b[0;34m=\u001b[0m \u001b[0mestimate_gaussian\u001b[0m\u001b[0;34m(\u001b[0m\u001b[0mX\u001b[0m\u001b[0;34m)\u001b[0m\u001b[0;34m\u001b[0m\u001b[0;34m\u001b[0m\u001b[0m\n\u001b[0m\u001b[1;32m      3\u001b[0m \u001b[0;34m\u001b[0m\u001b[0m\n\u001b[1;32m      4\u001b[0m \u001b[0;31m# Create the grid for plotting\u001b[0m\u001b[0;34m\u001b[0m\u001b[0;34m\u001b[0m\u001b[0;34m\u001b[0m\u001b[0m\n\u001b[1;32m      5\u001b[0m \u001b[0mX1\u001b[0m\u001b[0;34m,\u001b[0m \u001b[0mX2\u001b[0m \u001b[0;34m=\u001b[0m \u001b[0mnp\u001b[0m\u001b[0;34m.\u001b[0m\u001b[0mmeshgrid\u001b[0m\u001b[0;34m(\u001b[0m\u001b[0mnp\u001b[0m\u001b[0;34m.\u001b[0m\u001b[0marange\u001b[0m\u001b[0;34m(\u001b[0m\u001b[0;36m0\u001b[0m\u001b[0;34m,\u001b[0m \u001b[0;36m35\u001b[0m\u001b[0;34m,\u001b[0m \u001b[0;36m0.5\u001b[0m\u001b[0;34m)\u001b[0m\u001b[0;34m,\u001b[0m \u001b[0mnp\u001b[0m\u001b[0;34m.\u001b[0m\u001b[0marange\u001b[0m\u001b[0;34m(\u001b[0m\u001b[0;36m0\u001b[0m\u001b[0;34m,\u001b[0m \u001b[0;36m35\u001b[0m\u001b[0;34m,\u001b[0m \u001b[0;36m0.5\u001b[0m\u001b[0;34m)\u001b[0m\u001b[0;34m)\u001b[0m\u001b[0;34m\u001b[0m\u001b[0;34m\u001b[0m\u001b[0m\n",
      "\u001b[0;31mNameError\u001b[0m: name 'X' is not defined"
     ]
    }
   ],
   "source": [
    "from scipy.stats import multivariate_normal\n",
    "mu, sigma2 = estimate_gaussian(X)\n",
    "\n",
    "# Create the grid for plotting\n",
    "X1, X2 = np.meshgrid(np.arange(0, 35, 0.5), np.arange(0, 35, 0.5))\n",
    "grid = np.vstack((X2.flatten(), X1.flatten())).T\n",
    "\n",
    "Z = multivariate_normal.pdf(x=grid, mean=mu, cov=sigma2)\n",
    "Z = Z.reshape(X1.shape)\n",
    "\n",
    "plt.contour(X1, X2, Z, np.array([10.]) ** np.arange(-21, 0, 3.))\n",
    "plt.plot(X[:, 0], X[:, 1], 'bx')\n",
    "plt.xlabel('Latency (ms)')\n",
    "plt.ylabel('Throughput (mb/s)')\n",
    "plt.show()"
   ]
  },
  {
   "cell_type": "markdown",
   "metadata": {},
   "source": [
    "### The $F_1$ score and choosing $\\epsilon$\n",
    "Remember:\n",
    "$$prec = \\frac{tp}{tp + fp}$$\n",
    "$$rec = \\frac{tp}{tp+fn}$$\n",
    "\n",
    "* $tp$ is true positive\n",
    "* $tp$ is false positive\n",
    "* $tp$ is false negative\n",
    "* $precision$ is precision\n",
    "* $recall$ is false negative\n",
    "\n",
    "$$F_1 = \\frac{2 * prec * rec}{prec + rec}$$\n",
    "\n",
    "For this dataset we use the $F_1$ score to measure the accuracy because there are very few negative traning examples.\n",
    "\n",
    "**Exercise**: Write a method the compute the $F_1$ score and select the best $\\epsilon$."
   ]
  },
  {
   "cell_type": "code",
   "execution_count": 4,
   "metadata": {},
   "outputs": [],
   "source": [
    "def select_threshold(ycv, pcv):\n",
    "    return 1, 1"
   ]
  },
  {
   "cell_type": "markdown",
   "metadata": {},
   "source": [
    "You should find the best $F_1$ score for $\\epsilon \\approx 8.99\\cdot10^{-05}$ and $F_1 = 0.875$. "
   ]
  },
  {
   "cell_type": "code",
   "execution_count": 6,
   "metadata": {},
   "outputs": [
    {
     "name": "stderr",
     "output_type": "stream",
     "text": [
      "/Library/Frameworks/Python.framework/Versions/3.7/lib/python3.7/site-packages/ipykernel_launcher.py:15: RuntimeWarning: invalid value encountered in long_scalars\n",
      "  from ipykernel import kernelapp as app\n"
     ]
    },
    {
     "data": {
      "text/plain": [
       "(8.990852779269493e-05, 0.8750000000000001)"
      ]
     },
     "execution_count": 6,
     "metadata": {},
     "output_type": "execute_result"
    }
   ],
   "source": [
    "Xcv = data[\"Xval\"]\n",
    "ycv = data[\"yval\"].flatten()\n",
    "pcv = multivariate_normal.pdf(x=Xcv, mean=mu, cov=sigma2)\n",
    "select_threshold(ycv, pcv)"
   ]
  },
  {
   "cell_type": "markdown",
   "metadata": {},
   "source": [
    "### Multidimensional Outliers\n",
    "\n",
    "If you completed the exercises above correctly, the code should return $\\epsilon \\approx 1.38\\cdot10^{-18}$ and $F_1 \\approx 0.615385$."
   ]
  },
  {
   "cell_type": "code",
   "execution_count": 7,
   "metadata": {},
   "outputs": [
    {
     "name": "stderr",
     "output_type": "stream",
     "text": [
      "/Library/Frameworks/Python.framework/Versions/3.7/lib/python3.7/site-packages/ipykernel_launcher.py:15: RuntimeWarning: invalid value encountered in long_scalars\n",
      "  from ipykernel import kernelapp as app\n"
     ]
    },
    {
     "data": {
      "text/plain": [
       "(1.3772288907613604e-18, 0.6153846153846154)"
      ]
     },
     "execution_count": 7,
     "metadata": {},
     "output_type": "execute_result"
    }
   ],
   "source": [
    "# Load data\n",
    "data = sio.loadmat('ex8data2.mat')\n",
    "X = data[\"X\"]\n",
    "Xcv = data[\"Xval\"]\n",
    "ycv = data[\"yval\"].flatten()\n",
    "\n",
    "# Fit mu and sigma\n",
    "mu, sigma2 = estimate_gaussian(X)\n",
    "\n",
    "# Choose epsilon\n",
    "pcv = multivariate_normal.pdf(x=Xcv, mean=mu, cov=sigma2)\n",
    "select_threshold(ycv, pcv)"
   ]
  },
  {
   "cell_type": "markdown",
   "metadata": {},
   "source": [
    "## Recommender systems\n",
    "### Problem formulation\n",
    "$r(i,j) = 1$ if user $j$ has rated movie $i$\n",
    "\n",
    "$y^{(i,j)}$ = rating by user $j$ on movie $i$\n",
    "\n",
    "$\\theta(j)$ = parameter vector for user $j$\n",
    "\n",
    "$x^{(i)}$ = feature vector for movie $i$\n",
    "\n",
    "For user $j$, movie $i$, predict rating $(\\theta^{(j)})^T(x^{(i)})$\n",
    "\n",
    "$m^{(j)}$ = no. of movies rated by user $j$\n",
    "\n",
    "Learn $\\theta^{(j)}$:\n",
    "$$\\min_{\\theta^{(1)}, ..., \\theta^{(j)}}\n",
    "\\frac{1}{2}\\displaystyle\\sum_{j = 1}^{n_u}\\displaystyle\\sum_{i:r(i,j)=1}\\left((\\theta^{(j)})^Tx^{(i)} - y^{(i, j)}\\right)^2+\\frac{\\lambda}{2}\\displaystyle\\sum_{j = 1}^{n_u}\\displaystyle\\sum_{k = 1}^{n}(\\theta_k^{(j)})^2$$\n",
    "\n",
    "### Collaborative filtering\n",
    "Given $x^{(1)},...,x^{(n_m)}$ we can estimate $\\theta^{(1)},...,\\theta^{(n_m)}$. Given $\\theta^{(1)},...,\\theta^{(n_m)}$, we can estimate $x^{(1)},...,x^{(n_m)}$. \n",
    "\n",
    "Guess $\\theta \\rightarrow x \\rightarrow \\theta \\rightarrow x \\rightarrow\\ ...$\n",
    "\n",
    "#### Collaborative filtering algorithm\n",
    "\n",
    "We want to minimize $\\theta^{(1)},...,\\theta^{(n_m)}$ and $x^{(1)},...,x^{(n_m)}$ simultaniously:\n",
    "\n",
    "$$\\min_{\\theta^{(1)}, ..., \\theta^{(n_m)} \\\\ x^{(1)}, ..., x^{(n_u)}}\n",
    "\\frac{1}{2}\\displaystyle\\sum_{j = 1}^{n_u}\\displaystyle\\sum_{i:r(i,j)=1}\\left((\\theta^{(j)})^Tx^{(i)} - y^{(i, j)}\\right)^2+\\frac{\\lambda}{2}\\displaystyle\\sum_{i = 1}^{n_m}\\displaystyle\\sum_{k = 1}^{n}(x_k^{(j)})^2+\\frac{\\lambda}{2}\\displaystyle\\sum_{j = 1}^{n_u}\\displaystyle\\sum_{k = 1}^{n}(\\theta_k^{(j)})^2$$\n",
    "\n",
    "1. We start by randomly initializing $\\theta^{(1)}, ..., \\theta^{(n_m)}$, $x^{(1)}, ..., x^{(n_u)}$ with small random values (symmetry breaking).\n",
    "2. Minimize cost function.\n",
    "3. For a user with parameters $\\theta$ and a movie with learned featurs $x$, predict a star rating of $\\theta^Tx$.\n",
    "\n",
    "#### Low rank matrix factorization\n",
    "We can take $Y$ as the matrix of all ratings. We can get the predicted ratings in a vectorized fashion using $X$ and $\\Theta$ by $X\\Theta^T$.\n",
    "\n",
    "You can find related movies $j$ to movie $i$ by finding movies with a small value for $||x^{(i)} - x^{(j)}||$.\n",
    "\n",
    "#### Mean normalization\n",
    "We substract matrix $\\mu$ with the average ratings for each movie from $Y$. Then for user $j$ on movie $i$ predict $(\\theta^{(j)})^T(x^{(i)})+\\mu_i$"
   ]
  },
  {
   "cell_type": "code",
   "execution_count": 8,
   "metadata": {},
   "outputs": [],
   "source": [
    "def normalize_ratings(Y, R):\n",
    "    m, n = Y.shape\n",
    "    Ymean = np.zeros(m)\n",
    "    Ynorm = np.zeros_like(Y)\n",
    "    print(1, Ymean.shape)\n",
    "    Ymean = np.mean(Y, axis=0)\n",
    "    print(2, Ymean.shape)\n",
    "    \n",
    "    return Ymean, Ynorm"
   ]
  },
  {
   "cell_type": "markdown",
   "metadata": {},
   "source": [
    "In this part of the exercise, you will implement the collaborative filtering learning algorithm and apply it to a dataset of movie ratings.2 This dataset consists of ratings on a scale of 1 to 5. The dataset has $n_u = 943$ users, and $n_m = 1682$ movies.\n",
    "\n",
    "The matrix $Y$ (a num movies $\\times$ num users matrix) stores the ratings $y(^{i,j)})$ (from 1 to 5). The matrix $R$ is an binary-valued indicator matrix, where $R(i, j) = 1$ if user $j$ gave a rating to movie $i$, and $R(i, j) = 0$ otherwise. The objective of collaborative filtering is to predict movie ratings for the movies that users have not yet rated, that is, the entries with $R(i, j) = 0$. This will allow us to recommend the movies with the highest predicted ratings to the user.\n"
   ]
  },
  {
   "cell_type": "markdown",
   "metadata": {},
   "source": [
    "### Loading the data"
   ]
  },
  {
   "cell_type": "code",
   "execution_count": 9,
   "metadata": {},
   "outputs": [
    {
     "data": {
      "text/plain": [
       "((1682, 943), (1682, 943))"
      ]
     },
     "execution_count": 9,
     "metadata": {},
     "output_type": "execute_result"
    }
   ],
   "source": [
    "data = sio.loadmat('ex8_movies.mat')\n",
    "Y = data[\"Y\"]\n",
    "R = data[\"R\"]\n",
    "Y.shape, R.shape"
   ]
  },
  {
   "cell_type": "code",
   "execution_count": 10,
   "metadata": {},
   "outputs": [
    {
     "data": {
      "text/plain": [
       "'Average rating for movie 1: 4.52067868504772'"
      ]
     },
     "execution_count": 10,
     "metadata": {},
     "output_type": "execute_result"
    }
   ],
   "source": [
    "'Average rating for movie 1: {}'.format(np.mean(Y[0, R[0, :]]))"
   ]
  },
  {
   "cell_type": "code",
   "execution_count": 11,
   "metadata": {},
   "outputs": [
    {
     "data": {
      "text/plain": [
       "<matplotlib.image.AxesImage at 0x1244da860>"
      ]
     },
     "execution_count": 11,
     "metadata": {},
     "output_type": "execute_result"
    },
    {
     "data": {
      "image/png": "[encoded data removed]",
      "text/plain": [
       "<Figure size 432x288 with 1 Axes>"
      ]
     },
     "metadata": {
      "needs_background": "light"
     },
     "output_type": "display_data"
    }
   ],
   "source": [
    "plt.imshow(Y, aspect='auto')"
   ]
  },
  {
   "cell_type": "markdown",
   "metadata": {},
   "source": [
    "### Collaborative filtering learning algorithm\n",
    "\n",
    "**Exercise**: Implement collaborative filtering cost function."
   ]
  },
  {
   "cell_type": "code",
   "execution_count": 12,
   "metadata": {},
   "outputs": [],
   "source": [
    "def cofi_cost(params, Y, R, num_users, num_movies, num_features, _lambda):\n",
    "    \"\"\"\n",
    "    Collaborative filtering cost function\n",
    "    \"\"\"\n",
    "    \n",
    "    # unpack values\n",
    "    X = params[:num_movies*num_features].reshape((num_movies, num_features))\n",
    "    Theta = params[num_movies*num_features:].reshape((num_users, num_features))\n",
    "    \n",
    "    X_grad = np.zeros_like(X)\n",
    "    \n",
    "    return X_grad"
   ]
  },
  {
   "cell_type": "code",
   "execution_count": 13,
   "metadata": {},
   "outputs": [],
   "source": [
    "def cofi_gradient(params, Y, R, num_users, num_movies, num_features, _lambda):\n",
    "    Theta = params[num_movies*num_features:].reshape((num_users, num_features))\n",
    "    Theta_grad = np.zeros_like(X)\n",
    "    \n",
    "    return Theta_grad"
   ]
  },
  {
   "cell_type": "markdown",
   "metadata": {},
   "source": [
    "We'll load pre-trained weights to examine the cost function."
   ]
  },
  {
   "cell_type": "code",
   "execution_count": 14,
   "metadata": {},
   "outputs": [],
   "source": [
    "data = sio.loadmat('ex8_movieParams.mat')\n",
    "Theta = data[\"Theta\"]\n",
    "X = data[\"X\"]\n",
    "\n",
    "# Reduce the data set size so that this runs faster\n",
    "num_users = 4\n",
    "num_movies = 5\n",
    "num_features = 3\n",
    "X_ = X[:num_movies, :num_features]\n",
    "Theta_ = Theta[:num_users, :num_features]\n",
    "Y_ = Y[:num_movies, :num_users]\n",
    "R_ = R[:num_movies, :num_users]"
   ]
  },
  {
   "cell_type": "markdown",
   "metadata": {},
   "source": [
    "The following should return approximately $22.22$."
   ]
  },
  {
   "cell_type": "code",
   "execution_count": 15,
   "metadata": {},
   "outputs": [
    {
     "data": {
      "text/plain": [
       "'Cost at loaded parameters: 22.224603725685675'"
      ]
     },
     "execution_count": 15,
     "metadata": {},
     "output_type": "execute_result"
    }
   ],
   "source": [
    "J = cofi_cost(np.hstack((X_.flatten(),  Theta_.flatten())), Y_, R_, num_users, num_movies, num_features, 0)\n",
    "           \n",
    "'Cost at loaded parameters: {}'.format(J)"
   ]
  },
  {
   "cell_type": "markdown",
   "metadata": {},
   "source": [
    "The following should return approximately $31.34$."
   ]
  },
  {
   "cell_type": "code",
   "execution_count": 16,
   "metadata": {},
   "outputs": [
    {
     "data": {
      "text/plain": [
       "'Cost at loaded parameters: 31.34405624427422'"
      ]
     },
     "execution_count": 16,
     "metadata": {},
     "output_type": "execute_result"
    }
   ],
   "source": [
    "J = cofi_cost(np.hstack((X_.flatten(),  Theta_.flatten())), Y_, R_, num_users, num_movies, num_features, 1.5)\n",
    "           \n",
    "'Cost at loaded parameters: {}'.format(J)"
   ]
  },
  {
   "cell_type": "markdown",
   "metadata": {},
   "source": [
    "### Training the model"
   ]
  },
  {
   "cell_type": "code",
   "execution_count": 17,
   "metadata": {},
   "outputs": [
    {
     "data": {
      "text/plain": [
       "'Toy Story (1995)\\n'"
      ]
     },
     "execution_count": 17,
     "metadata": {},
     "output_type": "execute_result"
    }
   ],
   "source": [
    "from load_movie_list import load_movie_list\n",
    "movie_list = load_movie_list()\n",
    "movie_list[0]"
   ]
  },
  {
   "cell_type": "code",
   "execution_count": 18,
   "metadata": {},
   "outputs": [
    {
     "name": "stdout",
     "output_type": "stream",
     "text": [
      "Rated 4 for Toy Story (1995)\n",
      "Rated 3 for Twelve Monkeys (1995)\n",
      "Rated 5 for Usual Suspects, The (1995)\n",
      "Rated 4 for Outbreak (1995)\n",
      "Rated 5 for Shawshank Redemption, The (1994)\n",
      "Rated 3 for While You Were Sleeping (1995)\n",
      "Rated 5 for Forrest Gump (1994)\n",
      "Rated 2 for Silence of the Lambs, The (1991)\n",
      "Rated 4 for Alien (1979)\n",
      "Rated 5 for Die Hard 2 (1990)\n",
      "Rated 5 for Sphere (1998)\n"
     ]
    }
   ],
   "source": [
    "# Initialize new user ratings\n",
    "new_ratings = np.zeros((1682, 1))\n",
    "\n",
    "# Check the file movie_idx.txt for id of each movie in our dataset\n",
    "# For example, Toy Story (1995) has ID 1, so to rate it \"4\", you can set\n",
    "new_ratings[0] = 4\n",
    "\n",
    "# Or suppose did not enjoy Silence of the Lambs (1991), you can set\n",
    "new_ratings[97] = 2\n",
    "\n",
    "# We have selected a few movies we liked / did not like and the ratings we\n",
    "# gave are as follows:\n",
    "new_ratings[6] = 3\n",
    "new_ratings[11]= 5\n",
    "new_ratings[53] = 4\n",
    "new_ratings[63]= 5\n",
    "new_ratings[65]= 3\n",
    "new_ratings[68] = 5\n",
    "new_ratings[182] = 4\n",
    "new_ratings[225] = 5\n",
    "new_ratings[354]= 5\n",
    "\n",
    "for i in range(len(new_ratings)):\n",
    "    rating = new_ratings[i]\n",
    "    if rating > 0:\n",
    "        print(\"Rated {} for {}\".format(int(rating), movie_list[i]), end='')"
   ]
  },
  {
   "cell_type": "code",
   "execution_count": 19,
   "metadata": {},
   "outputs": [],
   "source": [
    "# Add new ratings to dataset\n",
    "Y = np.hstack((new_ratings, Y))\n",
    "R = np.hstack((new_ratings != 0, R))"
   ]
  },
  {
   "cell_type": "code",
   "execution_count": 29,
   "metadata": {},
   "outputs": [
    {
     "name": "stdout",
     "output_type": "stream",
     "text": [
      "1 (1682,)\n",
      "2 (944,)\n",
      "num_users:  944  num_movies :  1682  num_features :  10\n",
      "Set initial parameters\n",
      "Train\n",
      "Warning: Desired error not necessarily achieved due to precision loss.\n",
      "         Current function value: 152936.114754\n",
      "         Iterations: 1\n",
      "         Function evaluations: 112\n",
      "         Gradient evaluations: 100\n",
      "Extract results\n",
      "[1.48354407 0.92772736 0.89064199 ... 0.34407187 0.99373252 0.53377299]\n",
      "(944,) (944,)\n",
      "Rated 11.15616688472356 for Toy Story (1995)\n",
      "Rated 11.108525219012083 for GoldenEye (1995)\n",
      "Rated 10.079762087907355 for Four Rooms (1995)\n",
      "Rated 9.851467527118134 for Get Shorty (1995)\n",
      "Rated 9.790186134596931 for Copycat (1995)\n",
      "Rated 9.643464976885834 for Shanghai Triad (Yao a yao yao dao waipo qiao) (1995)\n",
      "Rated 9.471699702534927 for Twelve Monkeys (1995)\n",
      "Rated 9.424885341163584 for Babe (1995)\n",
      "Rated 9.414902508479424 for Dead Man Walking (1995)\n",
      "Rated 9.05165410342046 for Richard III (1995)\n"
     ]
    }
   ],
   "source": [
    "from scipy.optimize import fmin_cg\n",
    "\n",
    "# Perform normalization\n",
    "Ymean, Ynorm = normalize_ratings(Y, R)\n",
    "\n",
    "num_users = Y.shape[1]\n",
    "num_movies = Y.shape[0]\n",
    "num_features = 10\n",
    "print('num_users: ', num_users,' num_movies : ', num_movies,' num_features : ', num_features)\n",
    "\n",
    "# Set initial parameters\n",
    "print(\"Set initial parameters\")\n",
    "X = np.random.random((num_movies, num_features))\n",
    "Theta = np.random.random((num_users, num_features))\n",
    "initial_parameters = np.hstack((X.flatten(),  Theta.flatten()))\n",
    "\n",
    "# Train\n",
    "print(\"Train\")\n",
    "_lambda = 10\n",
    "results = fmin_cg(cofi_cost, initial_parameters, args = (Y, R, num_users, num_movies, num_features, _lambda),\n",
    "                  fprime = cofi_gradient)\n",
    "\n",
    "# Extract results\n",
    "print(\"Extract results\")\n",
    "print(results)\n",
    "params = results\n",
    "X = params[:num_movies*num_features].reshape((num_movies, num_features))\n",
    "Theta = params[num_movies*num_features:].reshape((num_users, num_features))\n",
    "\n",
    "p = X @ Theta.T\n",
    "predictions = p[0, :] + Ymean\n",
    "print(predictions.shape, Ymean.shape)\n",
    "for i, prediction in enumerate(list(sorted(predictions, reverse=True))[:10]):\n",
    "    if prediction > 0:\n",
    "        print(\"Rated {} for {}\".format(prediction, movie_list[i]), end='')"
   ]
  }
 ],
 "metadata": {
  "kernelspec": {
   "display_name": "Python 3",
   "language": "python",
   "name": "python3"
  },
  "language_info": {
   "codemirror_mode": {
    "name": "ipython",
    "version": 3
   },
   "file_extension": ".py",
   "mimetype": "text/x-python",
   "name": "python",
   "nbconvert_exporter": "python",
   "pygments_lexer": "ipython3",
   "version": "3.7.1"
  }
 },
 "nbformat": 4,
 "nbformat_minor": 2
}
